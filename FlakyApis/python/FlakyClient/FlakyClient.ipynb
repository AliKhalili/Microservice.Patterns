{
 "cells": [
  {
   "cell_type": "code",
   "execution_count": 1,
   "metadata": {},
   "outputs": [],
   "source": [
    "import requests\n",
    "import warnings\n",
    "import numpy as np\n",
    "import matplotlib.pyplot as plt\n",
    "warnings.filterwarnings('ignore')"
   ]
  },
  {
   "cell_type": "code",
   "execution_count": 6,
   "metadata": {},
   "outputs": [],
   "source": [
    "class FlakyClient:\n",
    "    def __init__(self, base_url=\"https://localhost:44343\"):\n",
    "        self._base_url =  base_url\n",
    "    \n",
    "    def call_status(self):\n",
    "        response = requests.get(f\"{self._base_url}/CircuitBreaker/Status\", verify=False)\n",
    "        return response.status_code, response.json()\n",
    "    \n",
    "    def call_reset(self):\n",
    "        response = requests.get(f\"{self._base_url}/CircuitBreaker/Reset\", verify=False)\n",
    "        return response.status_code\n",
    "    \n",
    "    def call_settings(self):\n",
    "        response = requests.get(f\"{self._base_url}/CircuitBreaker/Settings\", verify=False)\n",
    "        return response.status_code, response.json()"
   ]
  },
  {
   "cell_type": "code",
   "execution_count": 8,
   "metadata": {},
   "outputs": [
    {
     "name": "stdout",
     "output_type": "stream",
     "text": [
      "{'time_of_first_failure': 40, 'total_time_of_interval': 60}\n",
      "200 200 200 200 200 200 200 200 200 200 503 200 503 200 200 200 200 200 503 200 200 200 503 503 503 503 503 503 503 503 503 200 503 200 200 200 503 503 503 200 503 503 503 503 503 503 503 200 200 503 503 200 200 503 503 503 200 200 200 503 "
     ]
    },
    {
     "data": {
      "text/plain": [
       "<matplotlib.legend.Legend at 0x1de031b9f48>"
      ]
     },
     "execution_count": 8,
     "metadata": {},
     "output_type": "execute_result"
    },
    {
     "data": {
      "image/png": "[encoded data removed]",
      "text/plain": [
       "<Figure size 1296x432 with 1 Axes>"
      ]
     },
     "metadata": {
      "needs_background": "light"
     },
     "output_type": "display_data"
    }
   ],
   "source": [
    "flaky_clinet = FlakyClient()\n",
    "status_code,settings=flaky_clinet.call_settings()\n",
    "assert status_code == 200\n",
    "print(settings)\n",
    "total_requests= settings['total_time_of_interval'] * 1\n",
    "status_code=flaky_clinet.call_reset()\n",
    "\n",
    "ups =  np.zeros(total_requests)\n",
    "downs = np.zeros(total_requests)\n",
    "for i in range(total_requests):\n",
    "    status_code, info = flaky_clinet.call_status()\n",
    "    print(status_code, end=' ')\n",
    "    if status_code == 200:\n",
    "        ups[i] = 1\n",
    "        downs[i] = np.nan\n",
    "    else:\n",
    "        ups[i] = np.nan\n",
    "        downs[i] = 0\n",
    "fig, ax = plt.subplots(figsize=(18, 6))\n",
    "ax.plot(range(total_requests), ups, 'go', label='system up')\n",
    "ax.plot(range(total_requests), downs, 'ro', label='system down')\n",
    "ax.set_xlabel('time step')  # Add an x-label to the axes.\n",
    "ax.set_ylabel('probability of failure')  # Add a y-label to the axes.\n",
    "ax.legend()"
   ]
  },
  {
   "cell_type": "code",
   "execution_count": null,
   "metadata": {},
   "outputs": [],
   "source": []
  }
 ],
 "metadata": {
  "kernelspec": {
   "display_name": "Python 3",
   "language": "python",
   "name": "python3"
  },
  "language_info": {
   "codemirror_mode": {
    "name": "ipython",
    "version": 3
   },
   "file_extension": ".py",
   "mimetype": "text/x-python",
   "name": "python",
   "nbconvert_exporter": "python",
   "pygments_lexer": "ipython3",
   "version": "3.7.9"
  }
 },
 "nbformat": 4,
 "nbformat_minor": 4
}
